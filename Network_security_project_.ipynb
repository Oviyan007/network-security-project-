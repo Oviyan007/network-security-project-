{
  "nbformat": 4,
  "nbformat_minor": 0,
  "metadata": {
    "colab": {
      "name": "Network security project .ipynb",
      "provenance": [],
      "authorship_tag": "ABX9TyNvJILgmhCX7vTu4/+Ruh2n",
      "include_colab_link": true
    },
    "kernelspec": {
      "name": "python3",
      "display_name": "Python 3"
    },
    "language_info": {
      "name": "python"
    }
  },
  "cells": [
    {
      "cell_type": "markdown",
      "metadata": {
        "id": "view-in-github",
        "colab_type": "text"
      },
      "source": [
        "<a href=\"https://colab.research.google.com/github/Oviyan007/network-security-project-/blob/main/Network_security_project_.ipynb\" target=\"_parent\"><img src=\"https://colab.research.google.com/assets/colab-badge.svg\" alt=\"Open In Colab\"/></a>"
      ]
    },
    {
      "cell_type": "code",
      "metadata": {
        "colab": {
          "base_uri": "https://localhost:8080/"
        },
        "id": "RE1PjnhPEvQB",
        "outputId": "d3d04621-4628-4150-ddb5-0de82b4586e4"
      },
      "source": [
        "# Python 3 code to demonstrate the  \n",
        "# working of MD5 (byte - byte) \n",
        "\n",
        "  \n",
        "\n",
        "import hashlib \n",
        "\n",
        "  \n",
        "# encoding shape ai using md5 hash \n",
        "# function  \n",
        "\n",
        "result = hashlib.md5(b'shapeAI') \n",
        "\n",
        "  \n",
        "# printing the equivalent byte value. \n",
        "\n",
        "print(\"The byte equivalent of hash is : \", end =\"\") \n",
        "\n",
        "print(result.digest())"
      ],
      "execution_count": 3,
      "outputs": [
        {
          "output_type": "stream",
          "text": [
            "The byte equivalent of hash is : b'py\\xc9\\xcc\\xf3\\x06\\xa2m\\xf2\\xff\\x8c\\xe1|H\\xd6\\xc7'\n"
          ],
          "name": "stdout"
        }
      ]
    }
  ]
}